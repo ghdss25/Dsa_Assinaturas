{
 "cells": [
  {
   "cell_type": "markdown",
   "id": "ac592ac0",
   "metadata": {},
   "source": [
    "## Importação das Bibliotecas "
   ]
  },
  {
   "cell_type": "code",
   "execution_count": null,
   "id": "2d790688",
   "metadata": {},
   "outputs": [],
   "source": [
    "import pandas as pd\n",
    "import numpy as np\n",
    "from datetime import date, datetime\n",
    "import seaborn as sns\n",
    "import matplotlib.pyplot as plt \n",
    "import plotly.express as px"
   ]
  },
  {
   "cell_type": "markdown",
   "id": "9fd21108",
   "metadata": {},
   "source": [
    "## Leitura da Planilha de Assinaturas"
   ]
  },
  {
   "cell_type": "code",
   "execution_count": null,
   "id": "5d619b1a",
   "metadata": {},
   "outputs": [],
   "source": [
    "assinaturas = pd.read_csv('assinaturas.csv', sep=';')\n",
    "\n",
    "assinaturas"
   ]
  },
  {
   "cell_type": "code",
   "execution_count": null,
   "id": "96dac119",
   "metadata": {},
   "outputs": [],
   "source": [
    "## Verificando as colunas de assinaturas\n",
    "assinaturas.columns"
   ]
  },
  {
   "cell_type": "markdown",
   "id": "889cd126",
   "metadata": {},
   "source": [
    "## 1 - Total de Gasto "
   ]
  },
  {
   "cell_type": "code",
   "execution_count": null,
   "id": "16cc7088",
   "metadata": {},
   "outputs": [],
   "source": [
    "total = assinaturas['TotalGasto'].sum() \n",
    "\n",
    "total_formatado = \"R$ {:,.2f}\".format(total)\n",
    "print(total_formatado)"
   ]
  },
  {
   "cell_type": "markdown",
   "id": "a95cfe8d",
   "metadata": {},
   "source": [
    "## 1.1 - Média de Gasto"
   ]
  },
  {
   "cell_type": "code",
   "execution_count": null,
   "id": "743447e8",
   "metadata": {},
   "outputs": [],
   "source": [
    "média = assinaturas['TotalGasto'].mean() \n",
    "\n",
    "média_formatado = \"R$ {:,.2f}\".format(média)\n",
    "print(média_formatado)"
   ]
  },
  {
   "cell_type": "markdown",
   "id": "61e44e11",
   "metadata": {},
   "source": [
    "## 2 - Total Gasto e Média de Assinaturas por Sexo "
   ]
  },
  {
   "cell_type": "code",
   "execution_count": null,
   "id": "51599d35",
   "metadata": {},
   "outputs": [],
   "source": [
    "total_gasto_assinatura_sexo = assinaturas.groupby([\"Sexo\"])[\"TotalGasto\"].sum().rename(\"Total de Assinaturas por Sexo\") \n",
    "media_gasto_assinatura_sexo = assinaturas.groupby([\"Sexo\"])[\"TotalGasto\"].mean().rename(\"Média de Assinaturas por Sexo\")\n",
    "\n",
    "analise_geral = pd.DataFrame({\"Total de Assinaturas por Sexo\" : total_gasto_assinatura_sexo, \n",
    "                              \"Média de Assinaturas por Sexo\" : media_gasto_assinatura_sexo})\n",
    "\n",
    "analise_geral['Total de Assinaturas por Sexo'] = analise_geral['Total de Assinaturas por Sexo'].map(lambda x : \"R$ {:,.2f}\".format(x)) \n",
    "\n",
    "analise_geral['Média de Assinaturas por Sexo'] = analise_geral['Média de Assinaturas por Sexo'].map(lambda x : \"R$ {:,.2f}\".format(x)) \n",
    "\n",
    "analise_geral"
   ]
  },
  {
   "cell_type": "markdown",
   "id": "b55e9fa7",
   "metadata": {},
   "source": [
    "## 3 - Total Gasto de Assinaturas por Ocupação "
   ]
  },
  {
   "cell_type": "code",
   "execution_count": null,
   "id": "a5728195",
   "metadata": {},
   "outputs": [],
   "source": [
    "total_gasto_assinatura = assinaturas.groupby([\"Ocupação\"])[\"TotalGasto\"].sum()\n",
    "\n",
    "total_gasto_assinatura_formatado = \"\\n\".join(\n",
    "    \"Ocupação: {}, Total Gasto: R$ {:,.2f}\".format(ocupacao, total_gasto)\n",
    "    for ocupacao, total_gasto in total_gasto_assinatura.items()\n",
    ")\n",
    "\n",
    "print(total_gasto_assinatura_formatado)"
   ]
  },
  {
   "cell_type": "code",
   "execution_count": null,
   "id": "13449f93",
   "metadata": {},
   "outputs": [],
   "source": [
    "data = pd.DataFrame({\n",
    "    'Ocupação': total_gasto_assinatura.index,\n",
    "    'TotalGasto': total_gasto_assinatura.values\n",
    "})"
   ]
  },
  {
   "cell_type": "code",
   "execution_count": null,
   "id": "4ce7546d",
   "metadata": {},
   "outputs": [],
   "source": [
    "# Gráfico de Barras\n",
    "plt.figure(figsize=(10, 7)) \n",
    "sns.barplot(\n",
    "    x='TotalGasto', \n",
    "    y='Ocupação',\n",
    "    data=data,\n",
    "    estimator=sum, \n",
    "    ci=None,\n",
    "    color='#69b3a2'\n",
    ")\n",
    "plt.xlabel(\"Total Gasto\")\n",
    "plt.ylabel(\"Ocupação\")\n",
    "plt.title(\"Total Gasto por Ocupação\")\n",
    "plt.show()"
   ]
  },
  {
   "cell_type": "markdown",
   "id": "8768758a",
   "metadata": {},
   "source": [
    "## 3.1 - Média Gasto de Assinaturas por Ocupação "
   ]
  },
  {
   "cell_type": "code",
   "execution_count": null,
   "id": "0b2cee4e",
   "metadata": {},
   "outputs": [],
   "source": [
    "media_gasto_assinatura = assinaturas.groupby([\"Ocupação\"])[\"TotalGasto\"].sum()\n",
    "\n",
    "media_gasto_assinatura_formatado = \"\\n\".join(\n",
    "    \"Ocupação: {}, Total Gasto: R$ {:,.2f}\".format(ocupacao, media_gasto)\n",
    "    for ocupacao, media_gasto in media_gasto_assinatura.items()\n",
    ")\n",
    "\n",
    "print(media_gasto_assinatura_formatado)"
   ]
  },
  {
   "cell_type": "code",
   "execution_count": null,
   "id": "3caa9ddf",
   "metadata": {},
   "outputs": [],
   "source": [
    "data_media = pd.DataFrame({\n",
    "    'Ocupação': media_gasto_assinatura.index,\n",
    "    'MediaGasto': media_gasto_assinatura.values\n",
    "})"
   ]
  },
  {
   "cell_type": "code",
   "execution_count": null,
   "id": "3ed90df5",
   "metadata": {},
   "outputs": [],
   "source": [
    "# Gráfico de Barras\n",
    "plt.figure(figsize=(10, 7)) \n",
    "sns.barplot(\n",
    "    x='MediaGasto', \n",
    "    y='Ocupação',\n",
    "    data=data_media,\n",
    "    estimator=np.mean, \n",
    "    ci=None,\n",
    "    color='#69b3a2'\n",
    ")\n",
    "plt.xlabel(\"Média Gasto\")\n",
    "plt.ylabel(\"Ocupação\")\n",
    "plt.title(\"Média Gasto por Ocupação\")\n",
    "plt.show()"
   ]
  },
  {
   "cell_type": "markdown",
   "id": "11a95645",
   "metadata": {},
   "source": [
    "## 4 - Total Gasto de Assinaturas por Nome "
   ]
  },
  {
   "cell_type": "code",
   "execution_count": null,
   "id": "03115adf",
   "metadata": {},
   "outputs": [],
   "source": [
    "grupo_nome = assinaturas.groupby('Nome')\n",
    "\n",
    "resultado_assinatura_total_nome = grupo_nome.agg({\n",
    "    'TotalGasto': 'sum',\n",
    "}).reset_index()\n",
    "\n",
    "resultado_assinatura_total_nome['TotalGasto'] = resultado_assinatura_total_nome['TotalGasto'].map(lambda x: \"R$ {:,.2f}\".format(x))\n",
    "resultado_assinatura_total_nome"
   ]
  },
  {
   "cell_type": "code",
   "execution_count": null,
   "id": "41decbc0",
   "metadata": {},
   "outputs": [],
   "source": [
    "trace = go.Bar(x = resultado_assinatura_total_nome['Nome'], \n",
    "               y = resultado_assinatura_total_nome['TotalGasto']) \n",
    "\n",
    "data = [trace] \n",
    "\n",
    "py.iplot(data)"
   ]
  },
  {
   "cell_type": "markdown",
   "id": "96cfe932",
   "metadata": {},
   "source": [
    "## 5 - Total Gasto e Média de Assinaturas por Ano, Dia e Mês "
   ]
  },
  {
   "cell_type": "code",
   "execution_count": null,
   "id": "5744ac61",
   "metadata": {},
   "outputs": [],
   "source": [
    "## Conversão da Coluna em formato Ano \n",
    "assinaturas['Assinatura'] = pd.to_datetime(assinaturas['Assinatura'])\n",
    "assinaturas['Ano_Assinatura'] = assinaturas['Assinatura'].dt.year\n",
    "assinaturas['Mês_Assinatura'] = assinaturas['Assinatura'].dt.month\n",
    "assinaturas['Dia_Assinatura'] = assinaturas['Assinatura'].dt.day"
   ]
  },
  {
   "cell_type": "code",
   "execution_count": null,
   "id": "15545f04",
   "metadata": {},
   "outputs": [],
   "source": [
    "display(assinaturas)"
   ]
  },
  {
   "cell_type": "markdown",
   "id": "3459bf18",
   "metadata": {},
   "source": [
    "* Total e Média de Assinaturas por Ano"
   ]
  },
  {
   "cell_type": "code",
   "execution_count": null,
   "id": "3cfdbdc4",
   "metadata": {},
   "outputs": [],
   "source": [
    "ano_total_assinatura = assinaturas.groupby([\"Ano_Assinatura\"])[\"TotalGasto\"].sum().rename(\"Total Gasto por Ano\")\n",
    "ano_media_assinatura = assinaturas.groupby([\"Ano_Assinatura\"])[\"TotalGasto\"].mean().rename(\"Média Gasta por Ano\") \n",
    "\n",
    "analise_ano = pd.DataFrame({\"Total Gasto por Ano\" : ano_total_assinatura, \n",
    "                            \"Média Gasta por Ano\" : ano_media_assinatura}) \n",
    "\n",
    "analise_ano['Total Gasto por Ano'] = analise_ano['Total Gasto por Ano'].map(lambda x: \"R$ {:,.2f}\".format(x))\n",
    "analise_ano['Média Gasta por Ano'] = analise_ano['Média Gasta por Ano'].map(lambda x: \"R$ {:,.2f}\".format(x))\n",
    "\n",
    "analise_ano"
   ]
  },
  {
   "cell_type": "markdown",
   "id": "06143c08",
   "metadata": {},
   "source": [
    "* Total e Média de Assinaturas por Mês"
   ]
  },
  {
   "cell_type": "code",
   "execution_count": null,
   "id": "1f6685fc",
   "metadata": {},
   "outputs": [],
   "source": [
    "mes_total_assinatura = assinaturas.groupby([\"Mês_Assinatura\"])[\"TotalGasto\"].sum().rename(\"Total Gasto por Mês\")\n",
    "mes_media_assinatura = assinaturas.groupby([\"Mês_Assinatura\"])[\"TotalGasto\"].mean().rename(\"Média Gasta por Mês\") \n",
    "\n",
    "analise_mes = pd.DataFrame({\"Total Gasto por Mês\" : mes_total_assinatura, \n",
    "                            \"Média Gasta por Mês\" : mes_media_assinatura}) \n",
    "\n",
    "analise_mes['Total Gasto por Mês'] = analise_mes['Total Gasto por Mês'].map(lambda x: \"R$ {:,.2f}\".format(x))\n",
    "analise_mes['Média Gasta por Mês'] = analise_mes['Média Gasta por Mês'].map(lambda x: \"R$ {:,.2f}\".format(x))\n",
    "\n",
    "analise_mes"
   ]
  },
  {
   "cell_type": "markdown",
   "id": "944b4e00",
   "metadata": {},
   "source": [
    "* Total e Média de Assinaturas por Dia"
   ]
  },
  {
   "cell_type": "code",
   "execution_count": null,
   "id": "dbf3203b",
   "metadata": {},
   "outputs": [],
   "source": [
    "dia_total_assinatura = assinaturas.groupby([\"Dia_Assinatura\"])[\"TotalGasto\"].sum().rename(\"Total Gasto por Dia\")\n",
    "dia_media_assinatura = assinaturas.groupby([\"Dia_Assinatura\"])[\"TotalGasto\"].mean().rename(\"Média Gasta por Dia\") \n",
    "\n",
    "analise_dia = pd.DataFrame({\"Total Gasto por Dia\" : dia_total_assinatura, \n",
    "                            \"Média Gasta por Dia\" : dia_media_assinatura}) \n",
    "\n",
    "analise_dia['Total Gasto por Dia'] = analise_dia['Total Gasto por Dia'].map(lambda x: \"R$ {:,.2f}\".format(x))\n",
    "analise_dia['Média Gasta por Dia'] = analise_dia['Média Gasta por Dia'].map(lambda x: \"R$ {:,.2f}\".format(x))\n",
    "\n",
    "analise_dia"
   ]
  },
  {
   "cell_type": "markdown",
   "id": "f9507fab",
   "metadata": {},
   "source": [
    "## 6 - Média de Assinatura por Assinatura "
   ]
  },
  {
   "cell_type": "markdown",
   "id": "839120a5",
   "metadata": {},
   "source": [
    "* Lista de Assinaturas ** "
   ]
  },
  {
   "cell_type": "code",
   "execution_count": null,
   "id": "2092e819",
   "metadata": {},
   "outputs": [],
   "source": [
    "datas_assinaturas = assinaturas['Assinatura']\n",
    "\n",
    "datas_assinaturas"
   ]
  },
  {
   "cell_type": "markdown",
   "id": "e83613bb",
   "metadata": {},
   "source": [
    "** Cálculo da Média de Assinaturas ** "
   ]
  },
  {
   "cell_type": "code",
   "execution_count": null,
   "id": "cf800321",
   "metadata": {},
   "outputs": [],
   "source": [
    "diferencas = datas_assinaturas.diff().mean()"
   ]
  },
  {
   "cell_type": "markdown",
   "id": "bb7c23ec",
   "metadata": {},
   "source": [
    "** Conversão da média para o formato de dias ** "
   ]
  },
  {
   "cell_type": "code",
   "execution_count": 171,
   "id": "a804de05",
   "metadata": {},
   "outputs": [],
   "source": [
    "media_ass_dias = diferencas.days"
   ]
  },
  {
   "cell_type": "code",
   "execution_count": 173,
   "id": "e95d33c8",
   "metadata": {},
   "outputs": [
    {
     "name": "stdout",
     "output_type": "stream",
     "text": [
      "A Média de dias entre assinaturas é de aproximadamente -5 dias\n"
     ]
    }
   ],
   "source": [
    "print(f'A Média de dias entre assinaturas é de aproximadamente {media_ass_dias} dias')"
   ]
  },
  {
   "cell_type": "markdown",
   "id": "12481f64",
   "metadata": {},
   "source": [
    "## 7 - Média de Assinatura por Nascimento "
   ]
  },
  {
   "cell_type": "markdown",
   "id": "7a9d31b8",
   "metadata": {},
   "source": [
    "** Listas de Assinaturas por Nascimento "
   ]
  },
  {
   "cell_type": "code",
   "execution_count": 174,
   "id": "9349c8f1",
   "metadata": {},
   "outputs": [
    {
     "data": {
      "text/plain": [
       "0     02/02/1970\n",
       "1     05/07/1985\n",
       "2     03/06/1964\n",
       "3     04/09/1974\n",
       "4     01/07/1983\n",
       "5     03/01/1971\n",
       "6     06/09/1951\n",
       "7     09/03/1991\n",
       "8     01/12/1979\n",
       "9     04/08/1960\n",
       "10    28/06/1949\n",
       "11    07/01/1995\n",
       "12    04/04/1987\n",
       "13    04/03/1967\n",
       "14    10/05/1956\n",
       "15    04/06/1978\n",
       "16    11/06/1994\n",
       "17    30/08/1950\n",
       "18    12/08/1967\n",
       "19    28/09/1966\n",
       "20    11/06/1980\n",
       "21    03/03/1971\n",
       "22    11/06/1973\n",
       "23    29/04/1958\n",
       "24    30/09/1955\n",
       "25    05/01/1953\n",
       "26    27/04/1954\n",
       "27    27/05/1961\n",
       "28    29/07/1960\n",
       "29    01/06/1977\n",
       "Name: Data_Nascimento, dtype: object"
      ]
     },
     "execution_count": 174,
     "metadata": {},
     "output_type": "execute_result"
    }
   ],
   "source": [
    "datas_assinaturas_nascimento = assinaturas['Data_Nascimento']\n",
    "\n",
    "datas_assinaturas_nascimento"
   ]
  },
  {
   "cell_type": "code",
   "execution_count": 178,
   "id": "bd64cc52",
   "metadata": {},
   "outputs": [
    {
     "data": {
      "text/plain": [
       "0    1970-02-02\n",
       "1    1985-07-05\n",
       "2    1964-06-03\n",
       "3    1974-09-04\n",
       "4    1983-07-01\n",
       "5    1971-01-03\n",
       "6    1951-09-06\n",
       "7    1991-03-09\n",
       "8    1979-12-01\n",
       "9    1960-08-04\n",
       "10   1949-06-28\n",
       "11   1995-01-07\n",
       "12   1987-04-04\n",
       "13   1967-03-04\n",
       "14   1956-05-10\n",
       "15   1978-06-04\n",
       "16   1994-06-11\n",
       "17   1950-08-30\n",
       "18   1967-08-12\n",
       "19   1966-09-28\n",
       "20   1980-06-11\n",
       "21   1971-03-03\n",
       "22   1973-06-11\n",
       "23   1958-04-29\n",
       "24   1955-09-30\n",
       "25   1953-01-05\n",
       "26   1954-04-27\n",
       "27   1961-05-27\n",
       "28   1960-07-29\n",
       "29   1977-06-01\n",
       "Name: Data_Nascimento, dtype: datetime64[ns]"
      ]
     },
     "execution_count": 178,
     "metadata": {},
     "output_type": "execute_result"
    }
   ],
   "source": [
    "datas_assinaturas_nascimento = pd.to_datetime(datas_assinaturas_nascimento, format='%d/%m/%Y')\n",
    "datas_assinaturas_nascimento"
   ]
  },
  {
   "cell_type": "markdown",
   "id": "0dd4da26",
   "metadata": {},
   "source": [
    "** Cálculo da Média de Assinaturas ** "
   ]
  },
  {
   "cell_type": "code",
   "execution_count": 179,
   "id": "267b0bba",
   "metadata": {},
   "outputs": [],
   "source": [
    "diferencas_nascimento = datas_assinaturas_nascimento.diff().mean()"
   ]
  },
  {
   "cell_type": "markdown",
   "id": "d2e2fc1b",
   "metadata": {},
   "source": [
    "** Conversão da média de nascimento para o formato de dias ** "
   ]
  },
  {
   "cell_type": "code",
   "execution_count": 180,
   "id": "07658620",
   "metadata": {},
   "outputs": [],
   "source": [
    "media_ass_nasc_dias = diferencas_nascimento.days"
   ]
  },
  {
   "cell_type": "code",
   "execution_count": 181,
   "id": "462b32cd",
   "metadata": {},
   "outputs": [
    {
     "name": "stdout",
     "output_type": "stream",
     "text": [
      "A Média de dias entre assinaturas por nascimento é de aproximadamente 92 dias\n"
     ]
    }
   ],
   "source": [
    "print(f'A Média de dias entre assinaturas por nascimento é de aproximadamente {media_ass_nasc_dias} dias')"
   ]
  }
 ],
 "metadata": {
  "kernelspec": {
   "display_name": "Python 3 (ipykernel)",
   "language": "python",
   "name": "python3"
  },
  "language_info": {
   "codemirror_mode": {
    "name": "ipython",
    "version": 3
   },
   "file_extension": ".py",
   "mimetype": "text/x-python",
   "name": "python",
   "nbconvert_exporter": "python",
   "pygments_lexer": "ipython3",
   "version": "3.9.13"
  }
 },
 "nbformat": 4,
 "nbformat_minor": 5
}
